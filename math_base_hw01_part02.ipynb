{
 "cells": [
  {
   "cell_type": "markdown",
   "metadata": {},
   "source": [
    "<center>\n",
    "    <img src=\"https://raw.githubusercontent.com/dvgodoy/PyTorch101_ODSC_Europe2020/master/images/linear_dogs.jpg\" height=\"400\" width=\"800\"> \n",
    "</center>  \n",
    "\n",
    "# Yet another math for DS course: домашнее задание 1"
   ]
  },
  {
   "cell_type": "markdown",
   "metadata": {},
   "source": [
    "**ФИО:**\n",
    "\n",
    "**Забавный факт о себе:**"
   ]
  },
  {
   "cell_type": "markdown",
   "metadata": {},
   "source": [
    "## Общая информация\n",
    "\n",
    "\n",
    "__Дата выдачи:__ 03.10.2023\n",
    "\n",
    "__Мягкий дедлайн:__ 23:59MSK 29.10.2023\n",
    "__Жёсткий дедлайн:__ 23:59MSK 05.11.2023"
   ]
  },
  {
   "cell_type": "markdown",
   "metadata": {},
   "source": [
    "## Формат сдачи\n",
    "\n",
    "Сам ноутбук называйте в формате hw-01-USERNAME.ipynb, где USERNAME — ваши фамилия и имя. Файл надо будет сдать в anytask."
   ]
  },
  {
   "cell_type": "markdown",
   "metadata": {},
   "source": [
    "## Оформление"
   ]
  },
  {
   "cell_type": "markdown",
   "metadata": {},
   "source": [
    "1. Be good, drink milk and [think of Russia](https://www.youtube.com/watch?v=jyxSFfBKMxQ)\n",
    "2. Обязательно фиксируйте зерно генератора случайных чисел в экспериментах. При перезапуске кода значения не должны меняться.\n",
    "3. Вверху файла подпишите фамилию, имя, группу и какой-то занимательный факт о себе.\n",
    "4. Обратите внимание, что у графиков должны быть подписаны оси, заголовок графика и при необходимости обязательно наличие легенды. \n",
    "\n",
    "> За отсутствие названий графиков и подписей к осям могут снижаться баллы. Все картинки должны быть самодостаточны и визуально удобны для восприятия, так чтобы не нужно было смотреть ваш код или знать задание, чтобы понять что на них изображено.\n",
    "\n",
    "\n",
    "Для каждого построенного графика делайте выводы. Эти выводы не должны быть поверхностными и очевидными. Не будьте мудрым королём.\n",
    "\n",
    "<br>\n",
    "\n",
    "<center>\n",
    "<img src=\"https://raw.githubusercontent.com/hse-econ-data-science/andan_2023/main/hw/king.png\" width=\"300\"> \n",
    "</center>\n",
    "\n",
    "**Пример плохого вывода:** Синенькая линия идет вверх, а красная вниз. Черненькая идет вниз, а потом вверх. \n",
    "\n",
    "<br>\n",
    "\n",
    "<center>\n",
    "<img src=\"https://raw.githubusercontent.com/hse-econ-data-science/andan_2023/main/hw/bad_lines.png\" width=\"600\"> \n",
    "</center>"
   ]
  },
  {
   "cell_type": "markdown",
   "metadata": {},
   "source": [
    "Это домашнее задание состоит из двух частей: \n",
    "\n",
    "- Часть с кодом\n",
    "- Часть с ручными задачами\n",
    "\n",
    "Часть с кодом должна быть оформлена на в юпитерской тетрадке. Весь код необходимо писать на python.\n",
    "\n",
    "Ручную часть можно решать на бумаге и оформить в виде отсканированной pdf-ки с разборчивым почерком. Можно вбить решение в виде формул прямо в юпитерскую тетрадку, можно сделать pdf-ку в техе."
   ]
  },
  {
   "cell_type": "markdown",
   "metadata": {},
   "source": [
    "## Часть 1: ручная\n",
    "\n",
    "За эту часть можно набрать 60 баллов. Также можно набрать бонусные 15 баллов. \n",
    "\n",
    "Условия задач [лежат по ссылке](https://github.com/FUlyankin/yet_another_math_for_DS/tree/main/hw)"
   ]
  },
  {
   "cell_type": "markdown",
   "metadata": {},
   "source": [
    "## Часть 2: пишем код\n",
    "\n",
    "За эту часть вы можете получить 40 обычных баллов и ещё 15 бонусных."
   ]
  },
  {
   "cell_type": "code",
   "execution_count": 183,
   "metadata": {},
   "outputs": [],
   "source": [
    "import numpy as np\n",
    "import scipy.linalg as sla\n",
    "import time\n",
    "\n",
    "import matplotlib.pyplot as plt\n",
    "%matplotlib inline"
   ]
  },
  {
   "cell_type": "markdown",
   "metadata": {},
   "source": [
    "## Задача №1: тупая механическая работа"
   ]
  },
  {
   "cell_type": "markdown",
   "metadata": {},
   "source": [
    "__[2 балла]__ Создайте диагональную матрицу $5\\times5$ с диагональными элементами 1, 2, 3, 4 и 5. \n",
    "\n",
    "- Найдите её след с помощью библиотечных функций. \n",
    "- Найдите обратную к ней матрицу."
   ]
  },
  {
   "cell_type": "code",
   "execution_count": 681,
   "metadata": {},
   "outputs": [
    {
     "name": "stdout",
     "output_type": "stream",
     "text": [
      "[[1 0 0 0 0]\n",
      " [0 2 0 0 0]\n",
      " [0 0 3 0 0]\n",
      " [0 0 0 4 0]\n",
      " [0 0 0 0 5]]\n"
     ]
    }
   ],
   "source": [
    "a = np.diag(range(1, 6))\n",
    "print(a)"
   ]
  },
  {
   "cell_type": "code",
   "execution_count": 682,
   "metadata": {},
   "outputs": [
    {
     "name": "stdout",
     "output_type": "stream",
     "text": [
      "15\n"
     ]
    }
   ],
   "source": [
    "trace = np.trace(a)\n",
    "print(trace)"
   ]
  },
  {
   "cell_type": "code",
   "execution_count": 683,
   "metadata": {},
   "outputs": [
    {
     "name": "stdout",
     "output_type": "stream",
     "text": [
      "[[1.         0.         0.         0.         0.        ]\n",
      " [0.         0.5        0.         0.         0.        ]\n",
      " [0.         0.         0.33333333 0.         0.        ]\n",
      " [0.         0.         0.         0.25       0.        ]\n",
      " [0.         0.         0.         0.         0.2       ]]\n"
     ]
    }
   ],
   "source": [
    "inversed = np.linalg.inv(a)\n",
    "print(inversed)"
   ]
  },
  {
   "cell_type": "markdown",
   "metadata": {},
   "source": [
    "__[3 балла]__ сгенерируйте случайную матрицу $X$ размера $4\\times5$\n",
    "\n",
    "- Найдите определитель подматрицы матрицы $X$, расположенной на пересечении 2 и 3 строки и 1 и 2 столбца; считаем, что строки и столбцы нумеруются с единицы (используйте slicing!). Такой определитель называется **минором** матрицы $X$.\n",
    "- Найдите произведение $X^TX$, найдите его определитель.\n"
   ]
  },
  {
   "cell_type": "code",
   "execution_count": 705,
   "metadata": {
    "scrolled": true
   },
   "outputs": [
    {
     "name": "stdout",
     "output_type": "stream",
     "text": [
      "[[  4.99647756 -14.01337484   3.26111294 -11.41800404  -3.19806155]\n",
      " [  2.19988661  13.30131809   6.57806982   4.54408237   3.00226344]\n",
      " [ 17.89988911  20.23992298   8.82751329 -14.78752838   4.71886499]\n",
      " [-11.12618906 -18.56716778   9.41756082   9.21394726  12.22159196]]\n"
     ]
    }
   ],
   "source": [
    "X = np.array([10*np.random.randn() for _ in range(20)]).reshape(4, 5)\n",
    "print(X)"
   ]
  },
  {
   "cell_type": "code",
   "execution_count": 706,
   "metadata": {},
   "outputs": [
    {
     "name": "stdout",
     "output_type": "stream",
     "text": [
      "[[ 2.19988661 13.30131809]\n",
      " [17.89988911 20.23992298]]\n"
     ]
    }
   ],
   "source": [
    "Y = X[1:3, 0:2]\n",
    "print(Y)"
   ]
  },
  {
   "cell_type": "code",
   "execution_count": 707,
   "metadata": {},
   "outputs": [
    {
     "name": "stdout",
     "output_type": "stream",
     "text": [
      "-193.56658325938642\n"
     ]
    }
   ],
   "source": [
    "print(np.linalg.det(Y))"
   ]
  },
  {
   "cell_type": "code",
   "execution_count": 708,
   "metadata": {},
   "outputs": [
    {
     "name": "stdout",
     "output_type": "stream",
     "text": [
      "[[ 474.00240232  528.1180745    83.99503219 -414.26457238  -60.8869862 ]\n",
      " [ 528.1180745  1127.6939388    45.60855825 -249.92828434  -46.66118823]\n",
      " [  83.99503219   45.60855825  220.52130297  -51.10830411  166.07328772]\n",
      " [-414.26457238 -249.92828434  -51.10830411  454.58732048   92.98676574]\n",
      " [ -60.8869862   -46.66118823  166.07328772   92.98676574  190.87618023]]\n"
     ]
    }
   ],
   "source": [
    "Z = X.T@X\n",
    "print(Z)"
   ]
  },
  {
   "cell_type": "code",
   "execution_count": 709,
   "metadata": {},
   "outputs": [
    {
     "name": "stdout",
     "output_type": "stream",
     "text": [
      "-0.00000269\n"
     ]
    }
   ],
   "source": [
    "print(f'{np.linalg.det(Z):.8f}')"
   ]
  },
  {
   "cell_type": "markdown",
   "metadata": {
    "id": "WI_6RaU-moWp"
   },
   "source": [
    "##  Задача №2: время\n",
    "\n",
    "__[10 баллов]__ Питон мотивирует пользоваться библиотечными функциями, когда они доступны, а не писать собственные. Библиотечные функции основаны на современных алгоритмах, обычно пишутся на более эффективных языках, таких как C++ или Fortran, а кроме того, оптимизированы для работы на многопроцессорных устройствах, так что обогнать эти решения просто так вы не сможете.\n",
    "\n",
    "Мы предлагаем вам убедиться в этом самим. Напишите функцию `my_det`, которая вычисляла бы определитель матрицы с помощью элементарных преобразований над строками. Функция должна выкидывать `ValueError` в случаях, если матрица не является квадратной."
   ]
  },
  {
   "cell_type": "code",
   "execution_count": 710,
   "metadata": {},
   "outputs": [],
   "source": [
    "def my_det(X):\n",
    "    '''\n",
    "    Parameters\n",
    "    ----------\n",
    "    X : array_like\n",
    "    \n",
    "    Returns\n",
    "    -------\n",
    "    det : float\n",
    "        Determinant of `a`.\n",
    "    '''\n",
    "    X = np.array(X).astype('float')\n",
    "    if X.shape[0] != X.shape[1]:\n",
    "        raise ValueError\n",
    "    \n",
    "    det = 1\n",
    "    k = 0\n",
    "    n = len(X)\n",
    "    for i in range(n):\n",
    "        for j in range(k, n):\n",
    "            if X[j, i] != 0:\n",
    "                if j != k:\n",
    "                    det *= -1\n",
    "                    temp = np.copy(X[j,:])\n",
    "                    X[j,:] = np.copy(X[k,:])\n",
    "                    X[k,:] = temp\n",
    "                for p in range(k+1, n):\n",
    "                    if X[p, i] != 0:\n",
    "                        X[p, :] -= X[k, :]*(X[p, i]/X[k, i])\n",
    "                det *= X[k, i]\n",
    "                k += 1\n",
    "                break\n",
    "        else:\n",
    "            return 0\n",
    "        \n",
    "    return det"
   ]
  },
  {
   "cell_type": "markdown",
   "metadata": {
    "id": "YO72m_XsmoWq"
   },
   "source": [
    "Простая проверка:"
   ]
  },
  {
   "cell_type": "code",
   "execution_count": 711,
   "metadata": {
    "id": "3TUlLYOLmoWq",
    "jupyter": {
     "outputs_hidden": true
    }
   },
   "outputs": [
    {
     "name": "stdout",
     "output_type": "stream",
     "text": [
      "[[1 0 1]\n",
      " [2 0 1]\n",
      " [1 3 1]]\n",
      "3.0\n"
     ]
    }
   ],
   "source": [
    "X = np.array([[1,0,1], [2,0,1], [1,3,1]])\n",
    "print(X)\n",
    "print(my_det(X))"
   ]
  },
  {
   "cell_type": "code",
   "execution_count": 712,
   "metadata": {},
   "outputs": [
    {
     "name": "stdout",
     "output_type": "stream",
     "text": [
      "[[0 0 1]\n",
      " [0 1 0]\n",
      " [1 0 0]]\n",
      "-1.0\n"
     ]
    }
   ],
   "source": [
    "X = np.array([[0,0,1], [0,1,0], [1,0,0]])\n",
    "print(X)\n",
    "print(my_det(X))"
   ]
  },
  {
   "cell_type": "code",
   "execution_count": 714,
   "metadata": {
    "scrolled": false
   },
   "outputs": [
    {
     "name": "stdout",
     "output_type": "stream",
     "text": [
      "[[2 4 1]\n",
      " [3 1 6]\n",
      " [1 3 1]]\n",
      "-14.0\n"
     ]
    }
   ],
   "source": [
    "X = np.array([[2,4,1], [3,1,6], [1,3,1]])\n",
    "print(X)\n",
    "print(my_det(X))"
   ]
  },
  {
   "cell_type": "code",
   "execution_count": 715,
   "metadata": {},
   "outputs": [
    {
     "name": "stdout",
     "output_type": "stream",
     "text": [
      "[[1 2 3]\n",
      " [4 5 6]\n",
      " [7 8 9]]\n",
      "0\n"
     ]
    }
   ],
   "source": [
    "X = np.array([[1,2,3], [4,5,6], [7,8,9]])\n",
    "print(X)\n",
    "print(my_det(X))"
   ]
  },
  {
   "cell_type": "code",
   "execution_count": 719,
   "metadata": {},
   "outputs": [
    {
     "name": "stdout",
     "output_type": "stream",
     "text": [
      "0.0003952980041503906\n",
      "0.00018548965454101562\n",
      "2.1311053984575836\n"
     ]
    }
   ],
   "source": [
    "X = np.array([np.random.randn()*5 for _ in range(25)]).reshape((5,5))\n",
    "\n",
    "start = time.time()\n",
    "my_det(X)\n",
    "end = time.time()\n",
    "time1 = end - start\n",
    "print(time1)\n",
    "\n",
    "\n",
    "start = time.time()\n",
    "np.linalg.det(X)\n",
    "end = time.time()\n",
    "time2 = end - start\n",
    "print(time2)\n",
    "\n",
    "print(time1/time2)\n",
    "\n",
    "#print(my_det(X))\n",
    "#print(np.linalg.det(X))"
   ]
  },
  {
   "cell_type": "markdown",
   "metadata": {
    "id": "N1vKEClLmoWq"
   },
   "source": [
    "На случай, если нам просто повезло с этой матрицей, имеет смысл написать чуть более хитрые тесты. Мы сгенерируем несколько случайных матриц $8\\times8$ с помощью функции `numpy.random.rand` и сравним ответ, выдаваемый нашей функцией, с настоящим определителем (результатом работы библиотечной функции `scipy.linalg.det`):"
   ]
  },
  {
   "cell_type": "code",
   "execution_count": 720,
   "metadata": {
    "id": "EkyYxvUSmoWq",
    "jupyter": {
     "outputs_hidden": true
    }
   },
   "outputs": [],
   "source": [
    "# Запустите этот блок кода\n",
    "for _ in range(10):\n",
    "    X = np.random.rand(8,8)\n",
    "    if np.abs(my_det(X) - sla.det(X)) > 1e-6:\n",
    "        print('FAILED')"
   ]
  },
  {
   "cell_type": "markdown",
   "metadata": {
    "id": "ezkmq4MRmoWr"
   },
   "source": [
    "Если вы ни разу не получили `FAILED`, то ваша функция работает правильно. "
   ]
  },
  {
   "cell_type": "markdown",
   "metadata": {
    "id": "7DYtTKT7moWr"
   },
   "source": [
    "Теперь давайте сравним скорость работы вашей функции и библиотечной функции `scipy.linalg.det`. В Питоне есть несколько способов измерения времени; мы воспользуемся декоратором `%timeit`. Будучи написан перед функцией, он запускает её некоторое количество раз, выбирает три случайных запуска и возвращает длительность самого быстрого из них. Модификатор `-o` между декоратором и функцией позволяет сохранять результаты работы декоратора в переменную.\n",
    "\n",
    "Приготовьтесь, что следующий блок может работать сравнительно долго."
   ]
  },
  {
   "cell_type": "code",
   "execution_count": 305,
   "metadata": {
    "id": "PJpkg2BHmoWr",
    "jupyter": {
     "outputs_hidden": true
    }
   },
   "outputs": [
    {
     "name": "stdout",
     "output_type": "stream",
     "text": [
      "9.03 µs ± 67.1 ns per loop (mean ± std. dev. of 7 runs, 100,000 loops each)\n",
      "121 µs ± 2.4 µs per loop (mean ± std. dev. of 7 runs, 10,000 loops each)\n",
      "277 µs ± 50.3 µs per loop (mean ± std. dev. of 7 runs, 1,000 loops each)\n",
      "12.2 ms ± 180 µs per loop (mean ± std. dev. of 7 runs, 100 loops each)\n",
      "10.9 ms ± 685 µs per loop (mean ± std. dev. of 7 runs, 100 loops each)\n"
     ]
    },
    {
     "name": "stderr",
     "output_type": "stream",
     "text": [
      "/tmp/ipykernel_295306/3911185713.py:30: RuntimeWarning: overflow encountered in scalar multiply\n",
      "  det *= X[k, i]\n"
     ]
    },
    {
     "name": "stdout",
     "output_type": "stream",
     "text": [
      "1.69 s ± 15.5 ms per loop (mean ± std. dev. of 7 runs, 1 loop each)\n"
     ]
    },
    {
     "data": {
      "text/plain": [
       "<matplotlib.legend.Legend at 0x7fe3ac408d10>"
      ]
     },
     "execution_count": 305,
     "metadata": {},
     "output_type": "execute_result"
    },
    {
     "data": {
      "image/png": "[encoded data removed]",
      "text/plain": [
       "<Figure size 640x480 with 1 Axes>"
      ]
     },
     "metadata": {},
     "output_type": "display_data"
    }
   ],
   "source": [
    "# Запустите этот блок кода\n",
    "lib_times = []\n",
    "my_times = []\n",
    "dimensions = [10, 100, 1000]\n",
    "for dim in dimensions:\n",
    "    A = np.random.rand(dim, dim)\n",
    "    res_lib = %timeit -o sla.det(A)\n",
    "    lib_times.append(res_lib.best)\n",
    "    res_my = %timeit -o my_det(A)\n",
    "    my_times.append(res_my.best)    \n",
    "\n",
    "plt.plot(dimensions, lib_times, color='blue', label='Library function')\n",
    "plt.plot(dimensions, my_times, color='red', label='My function')\n",
    "plt.title('My function vs library function, log y scale')\n",
    "plt.ylabel('Time')\n",
    "plt.xlabel('Matrix dimension')\n",
    "plt.legend()"
   ]
  },
  {
   "cell_type": "markdown",
   "metadata": {
    "id": "NFIB6OHAmoWr"
   },
   "source": [
    "У вас должны были получиться графики, показывающие, как растёт с ростом размерности матрицы время вычисления определителя. Поскольку они вышли не больно-то красивыми, мы нарисуем их в *логарифмическом масштабе* по оси у:"
   ]
  },
  {
   "cell_type": "code",
   "execution_count": 306,
   "metadata": {
    "id": "GkgijRiWmoWr",
    "jupyter": {
     "outputs_hidden": true
    }
   },
   "outputs": [
    {
     "data": {
      "text/plain": [
       "<matplotlib.legend.Legend at 0x7fe3ac294350>"
      ]
     },
     "execution_count": 306,
     "metadata": {},
     "output_type": "execute_result"
    },
    {
     "data": {
      "image/png": "[encoded data removed]",
      "text/plain": [
       "<Figure size 640x480 with 1 Axes>"
      ]
     },
     "metadata": {},
     "output_type": "display_data"
    }
   ],
   "source": [
    "plt.semilogy(dimensions, lib_times, color='blue', label='Library function')\n",
    "plt.semilogy(dimensions, my_times, color='red', label='My function')\n",
    "plt.title('My function vs library function, log y scale')\n",
    "plt.ylabel('Time')\n",
    "plt.xlabel('Matrix dimension')\n",
    "plt.legend()"
   ]
  },
  {
   "cell_type": "markdown",
   "metadata": {
    "id": "vH8mtr3JmoWr"
   },
   "source": [
    "Вы можете убедиться, что библиотечная функция работает *гораздо* быстрее."
   ]
  },
  {
   "cell_type": "markdown",
   "metadata": {},
   "source": [
    "##  Задача №3: точность\n",
    "\n",
    "__[10 баллов]__ Наверняка вы уже что-то знаете про floating point arithmetics и связанные с этим трудности и понимаете, что на компьютере вычисления с вещественными числами производятся лишь с ограниченной точностью. "
   ]
  },
  {
   "cell_type": "markdown",
   "metadata": {},
   "source": [
    "В качестве первого примера, показывающего различие между длинной арифметикой целых чисел и floating point arithmetics, предлагаем вам перемножить две пары матриц:\n",
    "\n",
    "$$\n",
    "\\begin{pmatrix}\n",
    "1 & 0\\\\\n",
    "10^{20} & 1\n",
    "\\end{pmatrix}\n",
    "\\cdot\n",
    "\\begin{pmatrix}\n",
    "10^{-20} & 1\\\\\n",
    "0 & 1 - 10^{20}\n",
    "\\end{pmatrix}\n",
    "$$\n",
    "и\n",
    "$$\n",
    "\\begin{pmatrix}\n",
    "1. & 0.\\\\\n",
    "10.^{20} & 1.\n",
    "\\end{pmatrix}\n",
    "\\cdot\n",
    "\\begin{pmatrix}\n",
    "10.^{-20} & 1.\\\\\n",
    "0. & 1. - 10.^{20}\n",
    "\\end{pmatrix}\n",
    "$$\n",
    "Во втором случае мы специально указали Питону (поставив везде десятичные точки), что хотим работать не с целыми числами, а с числами с плавающей точкой. Посмотрим, получатся ли одинаковые ответы:"
   ]
  },
  {
   "cell_type": "code",
   "execution_count": 340,
   "metadata": {},
   "outputs": [
    {
     "name": "stdout",
     "output_type": "stream",
     "text": [
      "[[1e-20 1]\n",
      " [1.0 1]]\n"
     ]
    }
   ],
   "source": [
    "A = np.array([[1, 0], [10**20, 1]])\n",
    "B = np.array([[10**(-20), 1], [0, 1-10**20]])\n",
    "C = A@B\n",
    "print(C)"
   ]
  },
  {
   "cell_type": "code",
   "execution_count": 350,
   "metadata": {
    "id": "_zUpUvbGmoWs",
    "jupyter": {
     "outputs_hidden": true
    }
   },
   "outputs": [
    {
     "name": "stdout",
     "output_type": "stream",
     "text": [
      "[[1e-20 1.0]\n",
      " [1.0 0.0]]\n",
      "1e-20 1.0 \n",
      "1.0 0.0 \n"
     ]
    }
   ],
   "source": [
    "A = np.array([[1., 0.], [10**20, 1.]])\n",
    "B = np.array([[10.**(-20), 1.], [0., 1.-10.**20]])\n",
    "C = A@B\n",
    "print(C)\n",
    "for a in C:\n",
    "    for b in a:\n",
    "        print(b, end=' ')\n",
    "    print()"
   ]
  },
  {
   "cell_type": "markdown",
   "metadata": {
    "id": "G7ht2QTUmoWs"
   },
   "source": [
    "И какой из них правильный?\n",
    "\n",
    "**Ответ:**"
   ]
  },
  {
   "cell_type": "markdown",
   "metadata": {
    "id": "C3IKhXXMmoWs"
   },
   "source": [
    "Впрочем, и с целыми числами тоже не всегда всё хорошо. Напишите функцию, генерирующую *матрицу Паскаля* заданной размерности $n$, то есть матрицу $P$, в которой $P_{ij} = C_{i+j}^i$. В этом задании нельзя пользоваться библиотечной функцией `scipy.linalg.pascal` или её аналогами из других библиотек. Обратите внимание, что использование факториалов крайне нежелательно, так как быстро приведёт к переполнению.\n",
    "\n",
    "В этом задании вы можете использовать цикл ``for``."
   ]
  },
  {
   "cell_type": "code",
   "execution_count": 361,
   "metadata": {
    "id": "PxD1ahvPmoWs",
    "jupyter": {
     "outputs_hidden": true
    }
   },
   "outputs": [],
   "source": [
    "def my_pascal(dim):\n",
    "    '''\n",
    "    Мы создали для вас матрицу из нулей размера dim x dim,\n",
    "    но вы можете ей не пользоваться, если не хотите\n",
    "    '''\n",
    "    P = np.zeros((dim, dim)).astype('int64')\n",
    "    \n",
    "    for i in range(dim):\n",
    "        P[0][i] = 1\n",
    "        P[i][0] = 1\n",
    "    \n",
    "    for i in range(1, dim):\n",
    "        for j in range(1, dim):\n",
    "            P[i][j] += P[i-1][j] + P[i][j-1]\n",
    "            \n",
    "    return P"
   ]
  },
  {
   "cell_type": "code",
   "execution_count": 364,
   "metadata": {},
   "outputs": [
    {
     "name": "stdout",
     "output_type": "stream",
     "text": [
      "[[  1   1   1   1   1   1]\n",
      " [  1   2   3   4   5   6]\n",
      " [  1   3   6  10  15  21]\n",
      " [  1   4  10  20  35  56]\n",
      " [  1   5  15  35  70 126]\n",
      " [  1   6  21  56 126 252]]\n",
      "0.9999999982162713\n"
     ]
    }
   ],
   "source": [
    "print(my_pascal(6))\n",
    "print(np.linalg.det(my_pascal(10)))"
   ]
  },
  {
   "cell_type": "code",
   "execution_count": 381,
   "metadata": {},
   "outputs": [
    {
     "name": "stdout",
     "output_type": "stream",
     "text": [
      "[[  1   1   1   1   1   1]\n",
      " [  1   2   3   4   5   6]\n",
      " [  1   3   6  10  15  21]\n",
      " [  1   4  10  20  35  56]\n",
      " [  1   5  15  35  70 126]\n",
      " [  1   6  21  56 126 252]]\n",
      "[[  1   1   1   1   1   1]\n",
      " [  0   1   2   3   4   5]\n",
      " [  0   1   3   6  10  15]\n",
      " [  0   1   4  10  20  35]\n",
      " [  0   1   5  15  35  70]\n",
      " [  0   1   6  21  56 126]]\n",
      "[[ 1  1  1  1  1  1]\n",
      " [ 0  1  2  3  4  5]\n",
      " [ 0  0  1  3  6 10]\n",
      " [ 0  0  1  4 10 20]\n",
      " [ 0  0  1  5 15 35]\n",
      " [ 0  0  1  6 21 56]]\n",
      "[[ 1  1  1  1  1  1]\n",
      " [ 0  1  2  3  4  5]\n",
      " [ 0  0  1  3  6 10]\n",
      " [ 0  0  0  1  4 10]\n",
      " [ 0  0  0  1  5 15]\n",
      " [ 0  0  0  1  6 21]]\n",
      "[[ 1  1  1  1  1  1]\n",
      " [ 0  1  2  3  4  5]\n",
      " [ 0  0  1  3  6 10]\n",
      " [ 0  0  0  1  4 10]\n",
      " [ 0  0  0  0  1  5]\n",
      " [ 0  0  0  0  1  6]]\n",
      "[[ 1  1  1  1  1  1]\n",
      " [ 0  1  2  3  4  5]\n",
      " [ 0  0  1  3  6 10]\n",
      " [ 0  0  0  1  4 10]\n",
      " [ 0  0  0  0  1  5]\n",
      " [ 0  0  0  0  0  1]]\n"
     ]
    }
   ],
   "source": [
    "n=6\n",
    "A = my_pascal(n)\n",
    "print(A)\n",
    "for j in range(n-1):\n",
    "    for i in range(n-1-j):\n",
    "        A[n-i-1, :] -= A[n-i-2]\n",
    "        #A[n-i-1, :] -= A[j]*A[n-i-1,j]\n",
    "    print(A)"
   ]
  },
  {
   "cell_type": "markdown",
   "metadata": {
    "id": "3P0Kz6MomoWs"
   },
   "source": [
    "Чему равен определитель такой матрицы в теории?\n",
    "\n",
    "**Ответ:**"
   ]
  },
  {
   "cell_type": "markdown",
   "metadata": {
    "id": "bvz9Wst_moWs"
   },
   "source": [
    "А теперь вычислите определитель матрицы Паскаля $30\\times30$ с помощью библиотечной функции `scipy.linalg.det`:"
   ]
  },
  {
   "cell_type": "code",
   "execution_count": 721,
   "metadata": {
    "id": "mz2uAjjEmoWs",
    "jupyter": {
     "outputs_hidden": true
    }
   },
   "outputs": [
    {
     "name": "stdout",
     "output_type": "stream",
     "text": [
      "-3.400444993542751e+51\n"
     ]
    }
   ],
   "source": [
    "print(sla.det(my_pascal(30)))"
   ]
  },
  {
   "cell_type": "markdown",
   "metadata": {
    "id": "8ZM9w60nmoWs"
   },
   "source": [
    "Разница заметна невооружённым взглядом!"
   ]
  },
  {
   "cell_type": "markdown",
   "metadata": {
    "id": "HjL92lAzmoWt"
   },
   "source": [
    "##  Задача №4: матричные вычисления"
   ]
  },
  {
   "cell_type": "markdown",
   "metadata": {
    "id": "_tKBETFbmoWt"
   },
   "source": [
    "Вы уже видели, что использования циклов (и самописных вычислений в целом) в Питоне лучше по возможности избегать и важно уметь находить способы делать всё библиотечными средствами.\n",
    "\n",
    "В качестве примера рассмотрим две задачи:\n",
    "\n",
    "**1.** Предположим, нужно вычислить суммы элементов в каждой строке матрицы `A`. Ясно, что можно написать простую функцию с двумя циклами, которая это посчитает, но так лучше не делать. Правильный способ такой:\n",
    "```\n",
    "A.sum(axis=1)\n",
    "```\n",
    "Параметр `axis=1` означает, что суммы берутся по строкам. Если вы хотите просуммировать по столбцам, укажите `axis=0`. Если вообще пропустить параметр `axis` (вызвать `A.sum()`), то функция вернёт сумму *всех* элементов матрицы.\n",
    "\n",
    "**2.** Теперь допустим, что нам нужно каждый столбец матрицы `A` умножить на некоторое число. Более точно, пусть у нас есть (одномерный) вектор `w = np.array([w_1,...,w_n])`, и мы должны `i`-й столбец `A` умножить на число `w_i`. Опять же, это можно сделать в пару циклов, но лучше использовать операцию поэлементного умножения:\n",
    "```\n",
    "A * w.reshape((1,n))\n",
    "```\n",
    "Оператор `reshape` нужен для того, чтобы из одномерного вектора сделать вектор-строку.\n",
    "\n",
    "Аналогично, если на числа `w_1,...,w_n` умножаются *строки* матрицы, нужно превратить `w` в вектор-столбец:\n",
    "```\n",
    "A * w.reshape((n,1))\n",
    "```"
   ]
  },
  {
   "cell_type": "markdown",
   "metadata": {
    "id": "cDc9PzhHmoWt"
   },
   "source": [
    "Дальше вам будет предложено попрактиковаться в матричных вычислениях. В следующих трёх заданиях нельзя пользоваться циклами, а также конструкциями `map` и `reduce` и им подобными; вместо этого постарайтесь свести всё к матричным операциям из `numpy` (но, опять же, не `np.vectorize` или чему-то подобному). Чтобы убедиться, что получилось именно то, что нужно, пишите собственные тесты со случайными матрицами."
   ]
  },
  {
   "cell_type": "markdown",
   "metadata": {
    "id": "Q6MLfLDToM8y"
   },
   "source": [
    "Не забудьте написать тесты, которые будут проверять корректность ваших функций."
   ]
  },
  {
   "cell_type": "markdown",
   "metadata": {
    "id": "YT5HrPv_moWt"
   },
   "source": [
    "**[5 баллов]** Напишите функцию `prod_and_sq_sum(A)`, вычисляющую произведение и сумму квадратов диагональных элементов квадратной матрицы `A`."
   ]
  },
  {
   "cell_type": "code",
   "execution_count": 433,
   "metadata": {
    "id": "Ocn0DLI4moWt",
    "jupyter": {
     "outputs_hidden": true
    }
   },
   "outputs": [
    {
     "name": "stdout",
     "output_type": "stream",
     "text": [
      "[ 1 25 81]\n",
      "107\n"
     ]
    }
   ],
   "source": [
    "def multiply(A):\n",
    "    return np.diag(A)**2\n",
    "\n",
    "def summ_of_squared_diag_elem(A):\n",
    "    return (np.diag(A)**2).sum()\n",
    "\n",
    "A = np.array([[1,2,3], [4,5,6], [7,8,9]])\n",
    "print(multiply(A))\n",
    "print(summ_of_squared_diag_elem(A))"
   ]
  },
  {
   "cell_type": "markdown",
   "metadata": {
    "id": "DxShkE1UmoWt"
   },
   "source": [
    "**[5 баллов]** Для матриц `A` и `B` размера $m\\times n$ обозначим через $a_1,\\ldots,a_n$ и $b_1,\\ldots,b_n$ соответственно их столбцы. Напишите функцию `f(A, B, k)`, вычисляющую\n",
    "\n",
    "$$\\sum_{i=1}^{\\min(k,m)}a_ib_i^T$$"
   ]
  },
  {
   "cell_type": "code",
   "execution_count": 427,
   "metadata": {
    "id": "g1vaeLvkmoWu",
    "jupyter": {
     "outputs_hidden": true
    }
   },
   "outputs": [],
   "source": [
    "def ab(A, B):\n",
    "    return (A@B.T)"
   ]
  },
  {
   "cell_type": "code",
   "execution_count": 428,
   "metadata": {},
   "outputs": [
    {
     "name": "stdout",
     "output_type": "stream",
     "text": [
      "[[ 14  32  50  68]\n",
      " [ 32  77 122 167]\n",
      " [ 50 122 194 266]\n",
      " [ 68 167 266 365]]\n",
      "[[  1   4   7  10]\n",
      " [  4  16  28  40]\n",
      " [  7  28  49  70]\n",
      " [ 10  40  70 100]]\n",
      "[[  4  10  16  22]\n",
      " [ 10  25  40  55]\n",
      " [ 16  40  64  88]\n",
      " [ 22  55  88 121]]\n",
      "[[  9  18  27  36]\n",
      " [ 18  36  54  72]\n",
      " [ 27  54  81 108]\n",
      " [ 36  72 108 144]]\n",
      "[[ 14  32  50  68]\n",
      " [ 32  77 122 167]\n",
      " [ 50 122 194 266]\n",
      " [ 68 167 266 365]]\n"
     ]
    }
   ],
   "source": [
    "A = np.array([[1,2,3], [4,5,6], [7,8,9], [10,11,12]])\n",
    "B = np.array([[1,2,3], [4,5,6], [7,8,9], [10,11,12]])\n",
    "print(ab(A, B))\n",
    "C = np.array([1,4,7,10]).reshape(4,1)@np.array([1,4,7,10]).reshape(1,4)\n",
    "D = np.array([2,5,8,11]).reshape(4,1)@np.array([2,5,8,11]).reshape(1,4)\n",
    "E = np.array([3,6,9,12]).reshape(4,1)@np.array([3,6,9,12]).reshape(1,4)\n",
    "print(C)\n",
    "print(D)\n",
    "print(E)\n",
    "print(C+D+E)"
   ]
  },
  {
   "cell_type": "markdown",
   "metadata": {
    "id": "EUiRcVJdmoWu"
   },
   "source": [
    "**[5 баллов]** Напишите функцию `get_diag(A,B)`, принимающую две квадратных матрицы `A` и `B` одного размера и возвращающую вектор диагональных элементов произведения `AB`, не вычисляя произведение целиком. "
   ]
  },
  {
   "cell_type": "code",
   "execution_count": 724,
   "metadata": {
    "id": "qF7VVHrhmoWu",
    "jupyter": {
     "outputs_hidden": true
    }
   },
   "outputs": [
    {
     "name": "stdout",
     "output_type": "stream",
     "text": [
      "[[ 84]\n",
      " [216]\n",
      " [366]]\n"
     ]
    }
   ],
   "source": [
    "def get_diag(A, B):\n",
    "    return (A*B.T).sum(axis=1).reshape((len(A), 1))\n",
    "\n",
    "A = np.array([[1,2,3], [4,5,6], [7,8,9]])\n",
    "B = np.array([[10,11,12], [13,14,15], [16,17,18]])\n",
    "\n",
    "print(get_diag(A, B))"
   ]
  },
  {
   "cell_type": "markdown",
   "metadata": {
    "id": "H9iZAF6TmoWw"
   },
   "source": [
    "##  Задача №5 (бонусная): Метод Гаусса или обратные матрицы?\n",
    "\n",
    "__[15 баллов]__ Баллы за эту задачу считаются бонусными. То есть за дз в сумме можно набрать 115 баллов."
   ]
  },
  {
   "cell_type": "markdown",
   "metadata": {
    "id": "1liSd6SwmoWw"
   },
   "source": [
    "Пусть нам дано матричное уравнение $Ax = B$, где $A$ &mdash; матрица размера $n\\times n$, а $B$ &mdash; матрица размера $n\\times m$ (отметим, что это уравнение можно интерпретировать как $m$ систем с векторными правыми частями и одинаковыми левыми). Вообще говоря, методов решения таких уравнений очень много, но мы пока рассмотрим два из них, с которыми вы уже хорошо знакомы.\n",
    "1. Метод Гаусса;\n",
    "2. Умножение на обратную матрицу: $x = A^{-1}B$.\n",
    "\n",
    "В этом задании вы попробуете ответить на вопрос о том, какой из этих методов эффективнее. Проведите два эксперимента:\n",
    "- сравните скорости решения системы при фиксированном `m = 10` и `n`, изменяющемся в пределах от 10 до 1000; например, для `n=10, 50, 100, 200, 500, 1000` (рост числа неизвестных при фиксированном количестве правых частей);\n",
    "- сравните скорости решения системы при фиксированном `n = 100` и `m`, меняющемся от 10 до 10000; например, для `m = 10, 100, 500, 1000, 2000, 5000, 10000` (рост числа правых частей при фиксированном числе неизвестных).\n",
    "\n",
    "При проведении экспериментов не возбраняется использовать циклы `for`.\n",
    "\n",
    "Эксперименты проведите на случайных матрицах, созданных с помощью функции `numpy.random.rand`. Постройте графики времени выполнения функции от размерности (лучше в логарифмическом масштабе). Сделайте выводы (в письменном виде!) о том, какой их методов оказывается лучше в каких обстоятельствах.\n",
    "\n",
    "Чтобы всё это не казалось вам чёрной магией, найдите число операций (суммарно сложения, умножения и деления), необходимых для решения системы каждым из методов. Обратите внимание на члены суммарной степени 3 (суммарной по $m$ и $n$; члены меньшего порядка можете даже не считать). Постарайтесь объяснить полученные ранее результаты."
   ]
  },
  {
   "cell_type": "markdown",
   "metadata": {},
   "source": [
    "# Гаусс"
   ]
  },
  {
   "cell_type": "code",
   "execution_count": 679,
   "metadata": {},
   "outputs": [],
   "source": [
    "def gauss_vector(A, b):\n",
    "    '''\n",
    "    Parameters\n",
    "    ----------\n",
    "    X : array_like\n",
    "    \n",
    "    Returns\n",
    "    -------\n",
    "    det : float\n",
    "        Determinant of `a`.\n",
    "    '''\n",
    "    if A.shape[0] != A.shape[1]:\n",
    "        raise ValueError\n",
    "    X = np.append(A, b.reshape(4,1), axis=1).astype('float')\n",
    "    k = 0\n",
    "    n = X.shape[1]\n",
    "    for i in range(n):\n",
    "        for j in range(k, n-1):\n",
    "            if X[j, i] != 0:\n",
    "                if j != k:\n",
    "                    temp = np.copy(X[j,:])\n",
    "                    X[j,:] = np.copy(X[k,:])\n",
    "                    X[k,:] = temp\n",
    "                for p in range(n-1):\n",
    "                    if X[p, i] != 0 and p != k:\n",
    "                        X[p, :] -= X[k, :]*(X[p, i]/X[k, i])\n",
    "                X[k, :] /= X[k, i]\n",
    "                k += 1\n",
    "                break\n",
    "    #???????\n",
    "    if np.all(X[-1, :] == np.zeros((1, n))):\n",
    "        print(\"No continious solutions\")\n",
    "        return [None for x in range(X.shape[1])]\n",
    "    return X[:, -1]\n",
    "\n",
    "def gauss_matrix(A, B):\n",
    "    result_matrix = []\n",
    "    for i in range(B.shape[1]):\n",
    "        result_matrix.append(gauss_vector(A, B[:, i]))\n",
    "    return np.array(result_matrix).T"
   ]
  },
  {
   "cell_type": "code",
   "execution_count": 680,
   "metadata": {},
   "outputs": [
    {
     "name": "stdout",
     "output_type": "stream",
     "text": [
      "[[2 2]\n",
      " [4 4]\n",
      " [2 2]\n",
      " [6 6]]\n",
      "[[ 0.47817048  0.47817048]\n",
      " [ 0.28274428  0.28274428]\n",
      " [ 0.0997921   0.0997921 ]\n",
      " [-0.34511435 -0.34511435]]\n"
     ]
    }
   ],
   "source": [
    "A = np.array([[np.random.randint(10) for i in range(4)] for j in range(4)])\n",
    "B = np.array([[2, 4, 2, 6], [2, 4, 2, 6]]).T\n",
    "print(B)\n",
    "print(gauss_matrix(A, B))"
   ]
  },
  {
   "cell_type": "code",
   "execution_count": 609,
   "metadata": {},
   "outputs": [
    {
     "name": "stdout",
     "output_type": "stream",
     "text": [
      "[-1.09359606  1.99014778 -0.06896552  1.65517241]\n"
     ]
    }
   ],
   "source": [
    "A = np.array([[np.random.randint(10) for i in range(4)] for j in range(4)])\n",
    "b = np.array([[2], [4], [2], [6]])\n",
    "c = gauss_vector(A, b)\n",
    "print(c)"
   ]
  },
  {
   "cell_type": "code",
   "execution_count": 610,
   "metadata": {},
   "outputs": [
    {
     "name": "stdout",
     "output_type": "stream",
     "text": [
      "[-1.56737368e-16  3.41176471e+00 -4.70588235e-01 -1.41176471e+00]\n"
     ]
    }
   ],
   "source": [
    "A = np.array([[np.random.randint(10) for i in range(4)] for j in range(4)])\n",
    "b = np.array([2, 4, 2, 6])\n",
    "c = gauss_vector(A, b)\n",
    "print(c)"
   ]
  },
  {
   "cell_type": "code",
   "execution_count": 608,
   "metadata": {},
   "outputs": [
    {
     "name": "stdout",
     "output_type": "stream",
     "text": [
      "No continious solutions\n",
      "[None, None, None, None, None]\n"
     ]
    }
   ],
   "source": [
    "A = np.array([[i+j*4 for i in range(4)] for j in range(4)])\n",
    "b = np.array([[2], [4], [2], [6]])\n",
    "print(gauss_vector(A, b))"
   ]
  },
  {
   "cell_type": "markdown",
   "metadata": {},
   "source": [
    "# Находим обратную матрицу"
   ]
  },
  {
   "cell_type": "code",
   "execution_count": 675,
   "metadata": {},
   "outputs": [],
   "source": [
    "def reverse_matrix(A):\n",
    "    n = len(A)\n",
    "    reverse_A = np.copy(A)\n",
    "    for i in range(n):\n",
    "        for j in range(n):\n",
    "            reverse_A[i][j] = my_det(np.delete(np.delete(A, i, axis=0), j, axis=1))*(-1)**(i+j)\n",
    "    return reverse_A.T/my_det(A)"
   ]
  },
  {
   "cell_type": "code",
   "execution_count": 676,
   "metadata": {},
   "outputs": [
    {
     "name": "stdout",
     "output_type": "stream",
     "text": [
      "[[1 4 6]\n",
      " [2 0 1]\n",
      " [9 4 8]]\n",
      "[[-0.25   -0.5     0.25  ]\n",
      " [-0.4375 -2.875   0.6875]\n",
      " [ 0.5     2.     -0.5   ]]\n",
      "[[1. 0. 0.]\n",
      " [0. 1. 0.]\n",
      " [0. 0. 1.]]\n"
     ]
    }
   ],
   "source": [
    "A = np.array([[1,4,6], [2,0,1], [9,4,8]])\n",
    "print(A)\n",
    "reverse_A = reverse_matrix(A)\n",
    "print(reverse_A)\n",
    "print(reverse_A@A)"
   ]
  },
  {
   "cell_type": "markdown",
   "metadata": {},
   "source": [
    "# Сравниваем скорость выполнения"
   ]
  },
  {
   "cell_type": "code",
   "execution_count": 678,
   "metadata": {},
   "outputs": [
    {
     "name": "stdout",
     "output_type": "stream",
     "text": [
      "[[ 0.73972603  0.73972603]\n",
      " [-0.35312024 -0.35312024]\n",
      " [-0.47031963 -0.47031963]\n",
      " [ 0.44748858  0.44748858]]\n",
      "0.001363992691040039\n",
      "[[ 0.73972603  0.73972603]\n",
      " [-0.35312024 -0.35312024]\n",
      " [-0.47031963 -0.47031963]\n",
      " [ 0.44748858  0.44748858]]\n",
      "0.004678487777709961\n"
     ]
    }
   ],
   "source": [
    "A = np.array([[np.random.randint(10) for i in range(4)] for j in range(4)])\n",
    "B = np.array([[2, 4, 2, 6], [2, 4, 2, 6]]).T\n",
    "\n",
    "start = time.time()\n",
    "print(gauss_matrix(A, B))\n",
    "print(time.time() - start)\n",
    "\n",
    "start = time.time()\n",
    "reverse_A = reverse_matrix(A)\n",
    "print(reverse_A@B)\n",
    "print(time.time() - start)"
   ]
  },
  {
   "cell_type": "code",
   "execution_count": null,
   "metadata": {},
   "outputs": [],
   "source": []
  }
 ],
 "metadata": {
  "colab": {
   "provenance": []
  },
  "kernelspec": {
   "display_name": "Python 3 (ipykernel)",
   "language": "python",
   "name": "python3"
  },
  "language_info": {
   "codemirror_mode": {
    "name": "ipython",
    "version": 3
   },
   "file_extension": ".py",
   "mimetype": "text/x-python",
   "name": "python",
   "nbconvert_exporter": "python",
   "pygments_lexer": "ipython3",
   "version": "3.11.4"
  }
 },
 "nbformat": 4,
 "nbformat_minor": 4
}
